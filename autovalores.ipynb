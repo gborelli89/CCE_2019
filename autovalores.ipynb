{
 "cells": [
  {
   "cell_type": "markdown",
   "metadata": {},
   "source": [
    "# AUTOVALORES E AUTOVETORES\n",
    "\n",
    "Para alguns vetores especiais, ao aplicar um operador $A$, o vetor resultante é paralelo o vetor inicial, apenas multiplicado por um fator $\\lambda$. A estes vetores dá-se o nome *autovetores*. Os fatores multiplicadores, por sua vez, são denominados *autovalores*.\n",
    "\n",
    "$$ Ax = \\lambda x $$\n",
    "\n",
    "Para resolver o problema acima, deve-se reescrever a equação\n",
    "\n",
    "$$ (A - \\lambda I)x = 0 $$\n",
    "\n",
    "desconsiderando a solução trivial (vetor nulo, conclui-se que a matriz $(A - \\lambda I)$ deve ser singular, ou seja,\n",
    "\n",
    "$$ det(A - \\lambda I) = 0 $$\n",
    "\n",
    "## Diagonalização de matrizes\n",
    "\n",
    "Suponha que $A$ tenha n autovetores independentes, então\n",
    "\n",
    "$$ AS = \\Lambda S $$\n",
    "\n",
    "conclui-se que\n",
    "\n",
    "$$ \\Lambda = S^{-1}AS \\qquad ou \\qquad A = S \\Lambda S^{-1} $$\n",
    "\n",
    "OBS.: as equações acima pressupõem autovetores independentes ($S$ não singular, inversível).\n",
    "\n",
    "## Potências\n",
    "\n",
    "Multiplicando por $A$ os dois lados da equação $Ax=\\lambda x$, obtém-se\n",
    "\n",
    "$$ A^2x = \\lambda Ax = \\lambda^2 x $$\n",
    "\n",
    "$$ A^2 = S \\Lambda (S^{-1} S) \\Lambda S^{-1} = S \\Lambda^2 S^{-1} $$\n",
    "\n",
    "$$ A^k = S \\Lambda^k S^{-1} $$\n",
    "\n",
    "Nota-se que $A$ tende a zero com $k \\rightarrow \\infty$ se TODOS $|\\lambda_i|<1$.\n",
    "\n",
    "<u>**Exemplo: Sequência de Fibonacci**</u>\n",
    "\n",
    "Quão rápido a sequência cresce? 0,1,1,2,3,5,8,13,....\n",
    "\n",
    "$$ F_{k+2} = F_{k+1} + F_k $$\n",
    "\n",
    "Pode-se converter a equação acima em um sistema de primeira ordem.\n",
    "\n",
    "\\begin{equation*}\n",
    "u_{k+1} = \\begin{bmatrix}\n",
    "1 & 1 \\\\\n",
    "1 & 0 \n",
    "\\end{bmatrix} u_k\n",
    "\\end{equation*}\n",
    "\n",
    "Sendo \n",
    "\n",
    "\\begin{equation*}\n",
    "u_{k} = \\begin{bmatrix}\n",
    "F_{k+1} \\\\\n",
    "F_k  \n",
    "\\end{bmatrix}\n",
    "\\end{equation*}\n",
    "\n",
    "Os autovalores de $A$ podem ser obtidos como segue"
   ]
  },
  {
   "cell_type": "code",
   "execution_count": 2,
   "metadata": {},
   "outputs": [
    {
     "data": {
      "text/html": [
       "<table>\n",
       "<tbody>\n",
       "\t<tr><td>1</td><td>1</td></tr>\n",
       "\t<tr><td>1</td><td>0</td></tr>\n",
       "</tbody>\n",
       "</table>\n"
      ],
      "text/latex": [
       "\\begin{tabular}{ll}\n",
       "\t 1 & 1\\\\\n",
       "\t 1 & 0\\\\\n",
       "\\end{tabular}\n"
      ],
      "text/markdown": [
       "\n",
       "| 1 | 1 |\n",
       "| 1 | 0 |\n",
       "\n"
      ],
      "text/plain": [
       "     [,1] [,2]\n",
       "[1,] 1    1   \n",
       "[2,] 1    0   "
      ]
     },
     "metadata": {},
     "output_type": "display_data"
    },
    {
     "data": {
      "text/html": [
       "<ol class=list-inline>\n",
       "\t<li>1.61803398874989</li>\n",
       "\t<li>-0.618033988749895</li>\n",
       "</ol>\n"
      ],
      "text/latex": [
       "\\begin{enumerate*}\n",
       "\\item 1.61803398874989\n",
       "\\item -0.618033988749895\n",
       "\\end{enumerate*}\n"
      ],
      "text/markdown": [
       "1. 1.61803398874989\n",
       "2. -0.618033988749895\n",
       "\n",
       "\n"
      ],
      "text/plain": [
       "[1]  1.618034 -0.618034"
      ]
     },
     "metadata": {},
     "output_type": "display_data"
    }
   ],
   "source": [
    "A <- matrix(c(1,1,1,0), ncol=2, byrow=TRUE)\n",
    "A\n",
    "\n",
    "e <- eigen(A)\n",
    "e$values"
   ]
  },
  {
   "cell_type": "markdown",
   "metadata": {},
   "source": [
    "O crescimento é dominado pelo autovalor maior do que 1, pois o outro tende a zero quando as matrizes vão sendo multiplicadas."
   ]
  },
  {
   "cell_type": "markdown",
   "metadata": {},
   "source": [
    "## Aplicação para encontrar tensões e direções principais\n",
    "\n",
    "O tensor das tensões é simétrico e segue\n",
    "\n",
    "\\begin{equation*}\n",
    "\\sigma_{ij} = \\begin{pmatrix}\n",
    "\\sigma_{11} & \\sigma_{12} & \\sigma_{13} \\\\\n",
    "\\sigma_{21} & \\sigma_{22} & \\sigma_{23} \\\\\n",
    "\\sigma_{31} & \\sigma_{32} & \\sigma_{33}\n",
    "\\end{pmatrix}.\n",
    "\\end{equation*}\n",
    "\n",
    "Chega-se ao problema de autovalor ($\\sigma$) e autovetor ($n$) como mostrado abaixo.\n",
    "\n",
    "$$ (\\sigma_{ij} - \\sigma \\delta_{ij})n_{ij} = 0 $$\n",
    "\n",
    "Exemplo para estado plano com\n",
    "\n",
    "\\begin{equation*}\n",
    "\\sigma_{ij} = \\begin{pmatrix}\n",
    "-100 & -30 & 0 \\\\\n",
    "-30 & 60 & 0 \\\\\n",
    "0 & 0 & 0\n",
    "\\end{pmatrix}.\n",
    "\\end{equation*}"
   ]
  },
  {
   "cell_type": "code",
   "execution_count": 9,
   "metadata": {
    "scrolled": true
   },
   "outputs": [
    {
     "data": {
      "text/html": [
       "<table>\n",
       "<tbody>\n",
       "\t<tr><td>-100</td><td>-30 </td><td>0   </td></tr>\n",
       "\t<tr><td> -30</td><td> 60 </td><td>0   </td></tr>\n",
       "\t<tr><td>   0</td><td>  0 </td><td>0   </td></tr>\n",
       "</tbody>\n",
       "</table>\n"
      ],
      "text/latex": [
       "\\begin{tabular}{lll}\n",
       "\t -100 & -30  & 0   \\\\\n",
       "\t  -30 &  60  & 0   \\\\\n",
       "\t    0 &   0  & 0   \\\\\n",
       "\\end{tabular}\n"
      ],
      "text/markdown": [
       "\n",
       "| -100 | -30  | 0    |\n",
       "|  -30 |  60  | 0    |\n",
       "|    0 |   0  | 0    |\n",
       "\n"
      ],
      "text/plain": [
       "     [,1] [,2] [,3]\n",
       "[1,] -100 -30  0   \n",
       "[2,]  -30  60  0   \n",
       "[3,]    0   0  0   "
      ]
     },
     "metadata": {},
     "output_type": "display_data"
    },
    {
     "data": {
      "text/plain": [
       "eigen() decomposition\n",
       "$values\n",
       "[1]   65.44004    0.00000 -105.44004\n",
       "\n",
       "$vectors\n",
       "           [,1] [,2]      [,3]\n",
       "[1,] -0.1784248    0 0.9839536\n",
       "[2,]  0.9839536    0 0.1784248\n",
       "[3,]  0.0000000    1 0.0000000\n"
      ]
     },
     "metadata": {},
     "output_type": "display_data"
    }
   ],
   "source": [
    "T <- cbind(c(-100,-30,0), c(-30,60,0), c(0,0,0))\n",
    "T\n",
    "e <- eigen(T)\n",
    "e"
   ]
  },
  {
   "cell_type": "code",
   "execution_count": 10,
   "metadata": {},
   "outputs": [
    {
     "data": {
      "text/html": [
       "10.2780226097917"
      ],
      "text/latex": [
       "10.2780226097917"
      ],
      "text/markdown": [
       "10.2780226097917"
      ],
      "text/plain": [
       "[1] 10.27802"
      ]
     },
     "metadata": {},
     "output_type": "display_data"
    }
   ],
   "source": [
    "# Calculando um dos ângulos das direções principais (o outro é ortogonal!)\n",
    "atan(e$vectors[2,3]/e$vectors[1,3])*180/pi"
   ]
  },
  {
   "cell_type": "markdown",
   "metadata": {},
   "source": [
    "## Vibrações mecânicas (1 GDL)\n",
    "\n",
    "Para um sistema massa-mola-amortecedor de 1 grau de liberdade (GDL) não forçado, obtém-se a equação\n",
    "\n",
    "$$ m \\frac{d^2 x}{dt^2} + c \\frac{dx}{dt} + k x = 0 $$\n",
    "\n",
    "que pode ser escrito como um sistema de equações de 1º grau\n",
    "\n",
    "\\begin{equation*}\n",
    "u' = \\begin{bmatrix}\n",
    "-c/m & -k/m \\\\\n",
    "1 & 0 \n",
    "\\end{bmatrix} u\n",
    "\\end{equation*}\n",
    "\n",
    "sendo\n",
    "\n",
    "\\begin{equation*}\n",
    "u = \\begin{bmatrix}\n",
    "x' \\\\\n",
    "x \n",
    "\\end{bmatrix} \\qquad e \\qquad u' = \\begin{bmatrix}\n",
    "x'' \\\\\n",
    "x'\n",
    "\\end{bmatrix}\n",
    "\\end{equation*}\n",
    "\n",
    "Vamos considerar $m$ = 20 kg, $k$ = 40 N/m e variar $c$. Como condição de contorno vamos considerar $x(0)$ = 1 e $x'(0) = 0$."
   ]
  },
  {
   "cell_type": "code",
   "execution_count": 24,
   "metadata": {},
   "outputs": [],
   "source": [
    "# Utilizado apenas para reduzir tamanho dos gráficos\n",
    "require(repr)\n",
    "options(repr.plot.width=7, repr.plot.height=5)\n",
    "\n",
    "# Função para fazer o cáculo numérico aplicando diferenças finitas com as condições iniciais:\n",
    "# x0=1, v0=0\n",
    "# m, c e k: massa, amortecimento e rigidez\n",
    "# dt: delta t\n",
    "# steps: número de passos (maior que 3)\n",
    "molaFun <- function(m, c, k, dt, steps){\n",
    "    x <- c(1, (2*m-dt^2*k)/(2*m))\n",
    "    for(i in 3:steps){\n",
    "        pres <- i-1\n",
    "        pass <- i-2\n",
    "        x[i] <- ((4*m-2*dt^2*k)*x[pres]+(dt*c-2*m)*x[pass])/(2*m+dt*c)\n",
    "    }\n",
    "    return(x)\n",
    "}\n",
    "\n",
    "# Construir a matriz para computar autovalores e autovetores\n",
    "Afun <- function(m, c, k){\n",
    "    A <- matrix(c(-c/m, -k/m, 1, 0), byrow = T, ncol=2)\n",
    "    return(A)\n",
    "}"
   ]
  },
  {
   "cell_type": "code",
   "execution_count": 25,
   "metadata": {},
   "outputs": [],
   "source": [
    "tt <- seq(0, by=0.05, length.out = 500)\n",
    "\n",
    "A1 <- Afun(10, 0, 40)\n",
    "x1 <- molaFun(20, 0, 40, dt=tt[2], steps=length(tt))\n",
    "\n",
    "A2 <- Afun(10, 1, 40)\n",
    "x2 <- molaFun(20, 10, 40, dt=tt[2], steps=length(tt))\n",
    "\n",
    "A3 <- Afun(10, 100, 40)\n",
    "x3 <- molaFun(20, 100, 40, dt=tt[2], steps=length(tt))"
   ]
  },
  {
   "cell_type": "code",
   "execution_count": 26,
   "metadata": {},
   "outputs": [
    {
     "data": {
      "text/plain": [
       "eigen() decomposition\n",
       "$values\n",
       "[1] 0+2i 0-2i\n",
       "\n",
       "$vectors\n",
       "                     [,1]                 [,2]\n",
       "[1,] 0.8944272+0.0000000i 0.8944272+0.0000000i\n",
       "[2,] 0.0000000-0.4472136i 0.0000000+0.4472136i\n"
      ]
     },
     "metadata": {},
     "output_type": "display_data"
    }
   ],
   "source": [
    "eigen(A1)"
   ]
  },
  {
   "cell_type": "code",
   "execution_count": 27,
   "metadata": {},
   "outputs": [
    {
     "data": {
      "image/png": "[encoded data removed]",
      "text/plain": [
       "plot without title"
      ]
     },
     "metadata": {},
     "output_type": "display_data"
    }
   ],
   "source": [
    "plot(tt, x1, t='l')"
   ]
  },
  {
   "cell_type": "code",
   "execution_count": 28,
   "metadata": {},
   "outputs": [
    {
     "data": {
      "text/plain": [
       "eigen() decomposition\n",
       "$values\n",
       "[1] -0.05+1.999375i -0.05-1.999375i\n",
       "\n",
       "$vectors\n",
       "                      [,1]                  [,2]\n",
       "[1,]  0.8944272+0.0000000i  0.8944272+0.0000000i\n",
       "[2,] -0.0111803-0.4470738i -0.0111803+0.4470738i\n"
      ]
     },
     "metadata": {},
     "output_type": "display_data"
    }
   ],
   "source": [
    "eigen(A2)"
   ]
  },
  {
   "cell_type": "code",
   "execution_count": 29,
   "metadata": {},
   "outputs": [
    {
     "data": {
      "image/png": "[encoded data removed]",
      "text/plain": [
       "plot without title"
      ]
     },
     "metadata": {},
     "output_type": "display_data"
    }
   ],
   "source": [
    "plot(tt, x2, t='l')\n",
    "grid()"
   ]
  },
  {
   "cell_type": "code",
   "execution_count": 30,
   "metadata": {},
   "outputs": [
    {
     "data": {
      "text/plain": [
       "eigen() decomposition\n",
       "$values\n",
       "[1] -9.5825757 -0.4174243\n",
       "\n",
       "$vectors\n",
       "           [,1]       [,2]\n",
       "[1,] -0.9945990  0.3852110\n",
       "[2,]  0.1037924 -0.9228285\n"
      ]
     },
     "metadata": {},
     "output_type": "display_data"
    }
   ],
   "source": [
    "eigen(A3)"
   ]
  },
  {
   "cell_type": "code",
   "execution_count": 31,
   "metadata": {},
   "outputs": [
    {
     "data": {
      "image/png": "[encoded data removed]",
      "text/plain": [
       "plot without title"
      ]
     },
     "metadata": {},
     "output_type": "display_data"
    }
   ],
   "source": [
    "plot(tt, x3, t='l')"
   ]
  },
  {
   "cell_type": "code",
   "execution_count": 32,
   "metadata": {},
   "outputs": [
    {
     "data": {
      "text/plain": [
       "eigen() decomposition\n",
       "$values\n",
       "[1] -2 -2\n",
       "\n",
       "$vectors\n",
       "           [,1]       [,2]\n",
       "[1,] -0.8944272 -0.8944272\n",
       "[2,]  0.4472136  0.4472136\n"
      ]
     },
     "metadata": {},
     "output_type": "display_data"
    }
   ],
   "source": [
    "A4 <- Afun(10, 40, 40)\n",
    "eigen(A4)"
   ]
  },
  {
   "cell_type": "code",
   "execution_count": 35,
   "metadata": {},
   "outputs": [
    {
     "data": {
      "image/png": "[encoded data removed]",
      "text/plain": [
       "plot without title"
      ]
     },
     "metadata": {},
     "output_type": "display_data"
    }
   ],
   "source": [
    "x4 <- molaFun(10,40,40,tt[2],length(tt))\n",
    "plot(tt,x3, t='l', ylab='x')\n",
    "lines(tt,x4,col=2)"
   ]
  },
  {
   "cell_type": "code",
   "execution_count": null,
   "metadata": {},
   "outputs": [],
   "source": []
  }
 ],
 "metadata": {
  "kernelspec": {
   "display_name": "R",
   "language": "R",
   "name": "ir"
  },
  "language_info": {
   "codemirror_mode": "r",
   "file_extension": ".r",
   "mimetype": "text/x-r-source",
   "name": "R",
   "pygments_lexer": "r",
   "version": "3.4.4"
  }
 },
 "nbformat": 4,
 "nbformat_minor": 2
}
